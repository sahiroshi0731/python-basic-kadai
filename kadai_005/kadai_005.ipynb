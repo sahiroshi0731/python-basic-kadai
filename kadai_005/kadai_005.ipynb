johen = 10
kehen = 20
takasa = 5
menseki = (johen + kehen ) * takasa / 2
print(menseki)